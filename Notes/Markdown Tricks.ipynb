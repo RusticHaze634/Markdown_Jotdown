{
 "cells": [
  {
   "cell_type": "markdown",
   "id": "55eaaf9b",
   "metadata": {},
   "source": [
    "<h1 style=\"text-align: center; font-family: times\"> Markdown Tricks</h1>\n",
    "\n",
    "<h2 style=\" font-family: times\">\n",
    "    Setting Font Style </h2>\n",
    "    <p>( Here used times)</p>\n",
    "    \n",
    "`<h2 style=\" font-family: times\">Setting Font Style</h2>`\n",
    "\n",
    "<h2 style=\" font-family: times\">\n",
    "    Nested Codeblocks</h2>\n",
    "\n",
    "Some text  \n",
    "<```md\n",
    "some **markdown** content that *need* to be `displayed` in ~~plain text~~\n",
    "\n",
    "```language\n",
    "some code or syntax\n",
    "​```\n",
    "\n",
    "end\n",
    "​```>"
   ]
  },
  {
   "cell_type": "markdown",
   "id": "740d7fc4",
   "metadata": {},
   "source": [
    "So writing up a code here using \n",
    "```\n",
    "`<script>`\n",
    "```\n",
    "tag works\n"
   ]
  },
  {
   "cell_type": "markdown",
   "id": "8c7ff8a0",
   "metadata": {},
   "source": [
    "<h2 style=\" font-family: times\">\n",
    "    Various tools</h2>\n",
    "\n",
    "- italic-bold -> __*“ ssss”*__\n",
    "\n",
    "- superscript -> Starwars<sup>TM</sup>\n",
    "\n",
    "- superscript-italic -> Starwars<sup>*tm*</sup>\n",
    "\n",
    "- subscript -> F<sub>x</sub>\n",
    "\n",
    "- subscript-bold -> Limit<sub>**min**</sub>\n",
    "\n",
    "- italic-bold-strikethrough -> ~~__*“ ssss”*__~~\n",
    "\n"
   ]
  },
  {
   "cell_type": "markdown",
   "id": "ca8c4d4d",
   "metadata": {},
   "source": [
    "<h2 style=\" font-family: times\">Aligning Image</h2>\n",
    "\n",
    "***\n",
    "<p style=\" font-family: times\">Everything is alligned left in Github Visualization</p>\n",
    "<p style=\" font-family: times\"><b>Monet Garden 1:</b></p>\n",
    "\n",
    "\n",
    "\n",
    "<img style=\"float: left;\"  src=\"https://i.pinimg.com/474x/ca/5e/91/ca5e91902e26c1f3d824108f67a5de5c--easy-paintings-monet-paintings.jpg\">   \n",
    "\n",
    "***\n",
    " \n"
   ]
  },
  {
   "cell_type": "markdown",
   "id": "b15d1ea4",
   "metadata": {},
   "source": [
    "<p style=\" font-family: times\"><b>Monet Garden 2:</b></p>\n",
    "\n",
    "<img style=\"float:center;\"  src=\"https://i.pinimg.com/originals/32/14/22/321422e33f37dc9c159183b24c29b9b0.jpg\">\n"
   ]
  },
  {
   "cell_type": "code",
   "execution_count": null,
   "id": "ab096adb",
   "metadata": {},
   "outputs": [],
   "source": []
  }
 ],
 "metadata": {
  "kernelspec": {
   "display_name": "Python 3 (ipykernel)",
   "language": "python",
   "name": "python3"
  },
  "language_info": {
   "codemirror_mode": {
    "name": "ipython",
    "version": 3
   },
   "file_extension": ".py",
   "mimetype": "text/x-python",
   "name": "python",
   "nbconvert_exporter": "python",
   "pygments_lexer": "ipython3",
   "version": "3.9.12"
  }
 },
 "nbformat": 4,
 "nbformat_minor": 5
}
